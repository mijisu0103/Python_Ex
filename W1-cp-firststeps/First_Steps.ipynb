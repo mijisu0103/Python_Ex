{
 "cells": [
  {
   "cell_type": "markdown",
   "metadata": {},
   "source": [
    "# How to run Python"
   ]
  },
  {
   "cell_type": "markdown",
   "metadata": {},
   "source": [
    "* You can run python in interactive mode from the command line (watch the video below for details): if you have Python installed, just type\n",
    "<pre><code> python </code></pre>\n",
    "* Python can answer many interesting questions in this modality (see the video)\n",
    "* When you are done, type \n",
    "<pre><code> quit() </code></pre>\n",
    "to exit\n",
    "* However, in general, you will want to write a **program**\n",
    "    * the difference between a calculator and a computer is that the latter can sequence operations\n",
    "    * a program is just such a sequence"
   ]
  },
  {
   "cell_type": "code",
   "execution_count": null,
   "metadata": {},
   "outputs": [],
   "source": [
    "# run this cell to show a video, use slider to resize it, type Esc-o to hide it\n",
    "from IPython.display import Video; from ipywidgets import interactive, IntSlider\n",
    "def _play(resize): display(Video(filename=\"media/fs-repl.webm\",data=\"\",width=resize))\n",
    "interactive(_play, resize=IntSlider(min=150, max=900, step=50, value=600, continuous_update=False, readout=False))"
   ]
  },
  {
   "cell_type": "markdown",
   "metadata": {},
   "source": [
    "# Hello World! (Your first Python program)"
   ]
  },
  {
   "cell_type": "markdown",
   "metadata": {},
   "source": [
    "* This is a programmer's [meme](https://en.wikipedia.org/wiki/%22Hello,_World!%22_program), I'm sorry\n",
    "* Your first program looks like this:\n",
    "<pre><code> print (\"Hello World!\") </code></pre>\n",
    "* Normally it would need to be typed in an editor (eg gedit, notepad, idle).\n",
    "If you do not have Python on your machine or are unfamiliar with editors, follow the instructions in the video below\n",
    "* You have to save it in a suitably named file (say hello.py)\n",
    "* You run it by typing \n",
    "<pre><code> python hello.py </code></pre>\n",
    "* You may find a file with extension .pyc has been created - that would contain the bytecode for your program (for very short programs, this is often cached).\n",
    "* The program does what it says on the tin"
   ]
  },
  {
   "cell_type": "code",
   "execution_count": null,
   "metadata": {},
   "outputs": [],
   "source": [
    "# run this cell to show a video, use slider to resize it, type Esc-o to hide it\n",
    "from IPython.display import Video; from ipywidgets import interactive, IntSlider\n",
    "def _play(resize): display(Video(filename=\"media/fs-hello_world.webm\",data=\"\",width=resize))\n",
    "interactive(_play, resize=IntSlider(min=150, max=900, step=50, value=600, continuous_update=False, readout=False))"
   ]
  },
  {
   "cell_type": "markdown",
   "metadata": {},
   "source": [
    "### So why aren't we learning Java?"
   ]
  },
  {
   "cell_type": "markdown",
   "metadata": {},
   "source": [
    "* In Java, it would look like this:\n",
    "<pre><code>\n",
    "public class Hello {\n",
    "\n",
    "    public static void main(String[] args) {\n",
    "        System.out.println(\"Hello, World\");\n",
    "    }\n",
    "}\n",
    "</code></pre>\n",
    "* You would compile it this way:\n",
    "<pre><code>\n",
    "javac Hello.java\n",
    "</code></pre>\n",
    "* And run it this way:\n",
    "<pre><code>\n",
    "java Hello\n",
    "</code></pre>\n",
    "* There are reasons for that, but as far as you are concerned, that's overkill"
   ]
  },
  {
   "cell_type": "markdown",
   "metadata": {},
   "source": [
    "# What are these lousy web pages anyway?"
   ]
  },
  {
   "cell_type": "markdown",
   "metadata": {},
   "source": [
    "* This is actually a [Jupyter Notebook](https://jupyter.org/)\n",
    "* It's pretty cool:"
   ]
  },
  {
   "cell_type": "code",
   "execution_count": null,
   "metadata": {},
   "outputs": [],
   "source": [
    "print (\"Hello World!\")"
   ]
  },
  {
   "cell_type": "markdown",
   "metadata": {},
   "source": [
    "* You can mix notes and code\n",
    "* It's available in the lab\n",
    "* I recommend you install this on your computer: https://jupyter.org/install\n",
    "(Linux not required), or install some Python distribution that includes it, such as Anaconda\n",
    "* You can modify or experiments with these notes live during tutorials and labs\n",
    "* You can insert your own examples and annotations\n",
    "* Lab exercises will be Jupyter Notebooks\n",
    "* Helps you document your work\n",
    "* Great for working with colleagues afterwards\n",
    "* Not practical for larger chunks of code...\n",
    "* ...but you can mix and match as you like:"
   ]
  },
  {
   "cell_type": "code",
   "execution_count": null,
   "metadata": {},
   "outputs": [],
   "source": [
    "%run hello.py"
   ]
  },
  {
   "cell_type": "markdown",
   "metadata": {},
   "source": [
    "...there's more to life than PowerPoint!"
   ]
  },
  {
   "cell_type": "code",
   "execution_count": null,
   "metadata": {},
   "outputs": [],
   "source": [
    "# run this cell to show a video, use slider to resize it, type Esc-o to hide it\n",
    "from IPython.display import Video; from ipywidgets import interactive, IntSlider\n",
    "def _play(resize): display(Video(filename=\"media/fs-notebooks.webm\",data=\"\",width=resize))\n",
    "interactive(_play, resize=IntSlider(min=150, max=900, step=50, value=600, continuous_update=False, readout=False))"
   ]
  },
  {
   "cell_type": "markdown",
   "metadata": {},
   "source": [
    "# Arithmetic operations"
   ]
  },
  {
   "cell_type": "markdown",
   "metadata": {},
   "source": [
    "As we have seen, we can use Python to perform standard arithmetic operations:\n",
    "\n",
    "| **Operator** | **Description**   |\n",
    "|--------------|-------------------|\n",
    "|      +       | Addition          |\n",
    "|      -       | Subtraction       |\n",
    "|      *       | Multiplication    |\n",
    "|      /       | Division          |\n",
    "|      //      | Integer division  |\n",
    "|      \\*\\*    | Exponentiation    |\n",
    "|      %       | Modulo (remainder) |"
   ]
  },
  {
   "cell_type": "code",
   "execution_count": null,
   "metadata": {},
   "outputs": [],
   "source": [
    "1+1"
   ]
  },
  {
   "cell_type": "markdown",
   "metadata": {},
   "source": [
    "* Note the difference between integer operations and floating point operations:\n",
    "    * try 3/2\n",
    "    * now try 3//2\n",
    "* Precedence follows the standard arithmetic conventions:\n",
    "    * try 1+3\\*2\n",
    "* Exponentiation has highest precedence, followed by multiplication and division, and then addition and subtraction\n",
    "* Parentheses can be used as needed:\n",
    "    * try (1+3)\\*2\n",
    "* A handy reference can be found [here](http://www.tutorialspoint.com/python/python_basic_operators.htm)"
   ]
  },
  {
   "cell_type": "code",
   "execution_count": null,
   "metadata": {},
   "outputs": [],
   "source": [
    "# run this cell to show a video, use slider to resize it, type Esc-o to hide it\n",
    "from IPython.display import Video; from ipywidgets import interactive, IntSlider\n",
    "def _play(resize): display(Video(filename=\"media/fs-operators.webm\",data=\"\",width=resize))\n",
    "interactive(_play, resize=IntSlider(min=150, max=900, step=50, value=600, continuous_update=False, readout=False))"
   ]
  },
  {
   "cell_type": "markdown",
   "metadata": {},
   "source": [
    "# Variables"
   ]
  },
  {
   "cell_type": "markdown",
   "metadata": {},
   "source": [
    "We can assign values to symbols using the assignment operator '=':"
   ]
  },
  {
   "cell_type": "code",
   "execution_count": null,
   "metadata": {},
   "outputs": [],
   "source": [
    "a=2\n",
    "b=3\n",
    "print(a+b)"
   ]
  },
  {
   "cell_type": "markdown",
   "metadata": {},
   "source": [
    "*a* and *b* in the example above are **variables**.\n",
    "Note that **=** is an **assignment**, so that the following makes perfect sense:"
   ]
  },
  {
   "cell_type": "code",
   "execution_count": null,
   "metadata": {},
   "outputs": [],
   "source": [
    "a=3\n",
    "print(a)\n",
    "# this does not mean that a is equal to a+1, it means\n",
    "# a is /assigned/ the value a+1\n",
    "a=a+1\n",
    "print(a)"
   ]
  },
  {
   "cell_type": "markdown",
   "metadata": {},
   "source": [
    "*a=a+1* is called an **increment** operation. It is so common that a special notation exists for it:"
   ]
  },
  {
   "cell_type": "code",
   "execution_count": null,
   "metadata": {},
   "outputs": [],
   "source": [
    "a=3\n",
    "a+=1 \n",
    "print(a)"
   ]
  },
  {
   "cell_type": "markdown",
   "metadata": {},
   "source": [
    "(just guess what *a-=1* does)."
   ]
  },
  {
   "cell_type": "markdown",
   "metadata": {},
   "source": [
    "It makes a lot of sense to use meaningful variable names:"
   ]
  },
  {
   "cell_type": "code",
   "execution_count": null,
   "metadata": {},
   "outputs": [],
   "source": [
    "mass=70 # in Kg\n",
    "height=1.80 # in metres\n",
    "bmi=mass/height**2\n",
    "print(bmi)"
   ]
  },
  {
   "cell_type": "markdown",
   "metadata": {},
   "source": [
    "Note that the two strings\n",
    "``` \n",
    "# in Kg \n",
    "```\n",
    "and \n",
    "``` \n",
    "# in metres\n",
    "```\n",
    "above are there for your benefit, not for the interpreter. They are **comments**. Python ignores them. \n",
    "They can come after instructions or on a line of their own. Use liberally."
   ]
  },
  {
   "cell_type": "code",
   "execution_count": null,
   "metadata": {},
   "outputs": [],
   "source": [
    "# run this cell to show a video, use slider to resize it, type Esc-o to hide it\n",
    "from IPython.display import Video; from ipywidgets import interactive, IntSlider\n",
    "def _play(resize): display(Video(filename=\"media/fs-variables.webm\",data=\"\",width=resize))\n",
    "interactive(_play, resize=IntSlider(min=150, max=900, step=50, value=600, continuous_update=False, readout=False))"
   ]
  },
  {
   "cell_type": "markdown",
   "metadata": {},
   "source": [
    "# Data types"
   ]
  },
  {
   "cell_type": "markdown",
   "metadata": {},
   "source": [
    "* Integers such as 2 and decimal numbers such as 3.5, that are called *floats*, represent two different **data types**. That means that the bit patterns involved at the level of the memory are interpreted in different ways, and that in general they support different operations (rather more detail than necessary on the term *float* can be found [here](https://en.wikipedia.org/wiki/Floating-point_arithmetic), if you are interested).\n",
    "* Another basic data type is a **character string**:\n",
    "    * ```\"Hello World!\"``` was a string\n",
    "    * ```'This is another Python string'```\n",
    "    * When three delimiters are used, strings can span multiple lines:\n",
    "        ```\n",
    "        \"\"\"This is a Python string\n",
    "        on multiple lines\"\"\"\n",
    "        ```\n",
    "    * Strings spanning multiple lines can be used anywhere as a comment\n",
    "* Strings can be assigned to variables:"
   ]
  },
  {
   "cell_type": "code",
   "execution_count": null,
   "metadata": {},
   "outputs": [],
   "source": [
    "greeting=\"Hello World!\"\n",
    "print(greeting)"
   ]
  },
  {
   "cell_type": "markdown",
   "metadata": {},
   "source": [
    "Operators work in different ways on different types of data (obviously, not all operators apply to all data types):"
   ]
  },
  {
   "cell_type": "code",
   "execution_count": null,
   "metadata": {},
   "outputs": [],
   "source": [
    "print(2+2)\n",
    "print(\"Hello \"+\"World\")\n",
    "print(2*3)\n",
    "print(\"Ho! \" *3)"
   ]
  },
  {
   "cell_type": "markdown",
   "metadata": {},
   "source": [
    "There is more to this than meets the eye:"
   ]
  },
  {
   "cell_type": "code",
   "execution_count": null,
   "metadata": {},
   "outputs": [],
   "source": [
    "a=2\n",
    "b=3\n",
    "print(a+b)\n",
    "a=\"Sp\"\n",
    "b=\"am\"\n",
    "print(a+b)"
   ]
  },
  {
   "cell_type": "markdown",
   "metadata": {},
   "source": [
    "So how does the interpreter know what operator should be applied in each case?\n",
    "* Python is implicilty typed, but strongly typed\n",
    "* Implicitly typed means you do not have to write\n",
    "```\n",
    "int num=3;\n",
    "String name=\"John\";\n",
    "```\n",
    "as you would in Java\n",
    "* however, each variable knows its type:"
   ]
  },
  {
   "cell_type": "code",
   "execution_count": null,
   "metadata": {},
   "outputs": [],
   "source": [
    "a=2\n",
    "print(type(a))\n",
    "a=2.0\n",
    "print(type(a))\n",
    "a=\"Monty\"\n",
    "print(type(a))"
   ]
  },
  {
   "cell_type": "markdown",
   "metadata": {},
   "source": [
    "You can generally trust Python to do the right thing with your data. There are a few pitfalls, that will become apparent later on."
   ]
  },
  {
   "cell_type": "code",
   "execution_count": null,
   "metadata": {},
   "outputs": [],
   "source": [
    "# run this cell to show a video, use slider to resize it, type Esc-o to hide it\n",
    "from IPython.display import Video; from ipywidgets import interactive, IntSlider\n",
    "def _play(resize): display(Video(filename=\"media/fs-types.webm\",data=\"\",width=resize))\n",
    "interactive(_play, resize=IntSlider(min=150, max=900, step=50, value=600, continuous_update=False, readout=False))"
   ]
  },
  {
   "cell_type": "markdown",
   "metadata": {},
   "source": [
    "Strings are not, with a few exceptions, processed by Python - and the interpreter does not care if a string actually contains a number. If you declare it as a string, it means that you want it processed as a string! After all, you may have good reasons for that:"
   ]
  },
  {
   "cell_type": "code",
   "execution_count": null,
   "metadata": {},
   "outputs": [],
   "source": [
    "numbersum= +44 + (207) + 8825000 # a number\n",
    "stringsum= \"+44\" + \"(207)\"+ \"8825000\" # a string\n",
    "print(\"numbersum = \", numbersum) # not quite what I want\n",
    "print(\"stringsum = \", stringsum) # much better"
   ]
  },
  {
   "cell_type": "markdown",
   "metadata": {},
   "source": [
    "# Obtaining user input"
   ]
  },
  {
   "cell_type": "markdown",
   "metadata": {},
   "source": [
    "A string of data from the user can be obtained via the ```input()``` function:"
   ]
  },
  {
   "cell_type": "code",
   "execution_count": null,
   "metadata": {},
   "outputs": [],
   "source": [
    "name=input(\"What's your name? \")\n",
    "print(\"Hello \" + name)"
   ]
  },
  {
   "cell_type": "markdown",
   "metadata": {},
   "source": [
    "Note that ```input``` returns a string: "
   ]
  },
  {
   "cell_type": "code",
   "execution_count": null,
   "metadata": {},
   "outputs": [],
   "source": [
    "age=input(\"What's your age? \")\n",
    "size=input(\"What's your shoe size? \")\n",
    "ratio=float(age)/float(size)\n",
    "print(\"Your age to shoe size ratio is: \", ratio)"
   ]
  },
  {
   "cell_type": "code",
   "execution_count": null,
   "metadata": {},
   "outputs": [],
   "source": [
    "# run this cell to show a video, use slider to resize it, type Esc-o to hide it\n",
    "from IPython.display import Video; from ipywidgets import interactive, IntSlider\n",
    "def _play(resize): display(Video(filename=\"media/fs-input.webm\",data=\"\",width=resize))\n",
    "interactive(_play, resize=IntSlider(min=150, max=900, step=50, value=600, continuous_update=False, readout=False))"
   ]
  },
  {
   "cell_type": "markdown",
   "metadata": {},
   "source": [
    "### The Body Mass Index example revisited:"
   ]
  },
  {
   "cell_type": "code",
   "execution_count": null,
   "metadata": {},
   "outputs": [],
   "source": [
    "# try rewriting the Body Mass Index example using input to ask the users\n",
    "# for their weight and height\n"
   ]
  },
  {
   "cell_type": "markdown",
   "metadata": {},
   "source": [
    "See the video below for help if you get stuck:"
   ]
  },
  {
   "cell_type": "code",
   "execution_count": null,
   "metadata": {},
   "outputs": [],
   "source": [
    "# run this cell to show a video, use slider to resize it, type Esc-o to hide it\n",
    "from IPython.display import Video; from ipywidgets import interactive, IntSlider\n",
    "def _play(resize): display(Video(filename=\"media/fs-bmi_input.webm\",data=\"\",width=resize))\n",
    "interactive(_play, resize=IntSlider(min=150, max=900, step=50, value=600, continuous_update=False, readout=False))"
   ]
  },
  {
   "cell_type": "markdown",
   "metadata": {},
   "source": [
    "# Advanced operations on strings"
   ]
  },
  {
   "cell_type": "markdown",
   "metadata": {},
   "source": [
    "Here are a few useful string manipulation operations. The syntax of some of these may look funny - these are actually **methods**. They are appended to the string variable name (or to the string itself) using a dot. Wait until we learn about Objects for this to make sense completely, but use them freely in the meanwhile"
   ]
  },
  {
   "cell_type": "markdown",
   "metadata": {},
   "source": [
    "##### Length of a string"
   ]
  },
  {
   "cell_type": "code",
   "execution_count": null,
   "metadata": {},
   "outputs": [],
   "source": [
    "a=\"ACTG\"\n",
    "print(len(a))"
   ]
  },
  {
   "cell_type": "markdown",
   "metadata": {},
   "source": [
    "It's worth remembering the ```len``` function, it is very common and is also used to find the length of lists, tuples, dictionaries and sets (all things we will learn in the future)"
   ]
  },
  {
   "cell_type": "markdown",
   "metadata": {},
   "source": [
    "##### To uppercase/lowercase"
   ]
  },
  {
   "cell_type": "code",
   "execution_count": null,
   "metadata": {},
   "outputs": [],
   "source": [
    "a=\"AcTg\"\n",
    "print(a.upper())\n",
    "print(a.lower())\n",
    "print(a) # the original string is unchanged!\n",
    "print(\"ACG\".lower()) # also ok"
   ]
  },
  {
   "cell_type": "markdown",
   "metadata": {},
   "source": [
    "##### Replacing a substring"
   ]
  },
  {
   "cell_type": "markdown",
   "metadata": {},
   "source": [
    "Use the method **replace**:"
   ]
  },
  {
   "cell_type": "code",
   "execution_count": null,
   "metadata": {},
   "outputs": [],
   "source": [
    "# displays the documentation for the method\n",
    "help(str.replace)"
   ]
  },
  {
   "cell_type": "code",
   "execution_count": null,
   "metadata": {},
   "outputs": [],
   "source": [
    "# This example is for the bioinformatician that's in you. DNAseq is a DNA sequence, \n",
    "# and the corresponding mRNA would read the same, except all Ts are changed into Us \n",
    "DNAseq=\"TCGATTCAG\"\n",
    "# again, DNAseq remains unchanged, so if we are intersted in processing the result\n",
    "# rather than simply printing it, we'd better assign it to a new variable\n",
    "mRNAseq=DNAseq.replace('T','U')\n",
    "print(mRNAseq)"
   ]
  },
  {
   "cell_type": "markdown",
   "metadata": {},
   "source": [
    "##### Other operations:"
   ]
  },
  {
   "cell_type": "markdown",
   "metadata": {},
   "source": [
    "Here are a few more useful methods that I encourage you to experiment with:"
   ]
  },
  {
   "cell_type": "code",
   "execution_count": null,
   "metadata": {},
   "outputs": [],
   "source": [
    "# You may want to \"uncomment\" (remove the leading # from) one line at a time,\n",
    "# or all together, as you prefer\n",
    "help(str.count)\n",
    "# help(str.find)\n",
    "# help(str.index)\n",
    "# help(str.split) # produces a list, will make sense after the next set of Notebooks\n",
    "# help(str.join)  # uses a list, will make sense after the next set of Notebooks"
   ]
  },
  {
   "cell_type": "code",
   "execution_count": null,
   "metadata": {},
   "outputs": [],
   "source": [
    "# go ahead and experiment!\n",
    "pease='''\n",
    "    Pease porridge hot\n",
    "    Pease porridge cold\n",
    "    Pease porridge in the pot\n",
    "    Nine days old\n",
    "'''\n",
    "# the above is a multiple line string delimited by 3 single quotes\n",
    "\n",
    "print(pease.count(\"porridge\"))\n",
    "# try the other methods here\n"
   ]
  },
  {
   "cell_type": "markdown",
   "metadata": {},
   "source": [
    "For the low-down on strings, including more methods you can play with, check out the [documentation](https://docs.python.org/3/library/stdtypes.html#textseq)."
   ]
  },
  {
   "cell_type": "markdown",
   "metadata": {},
   "source": [
    "**(C) 2014,2020 Fabrizio Smeraldi** ([f.smeraldi@qmul.ac.uk](mailto:f.smeraldi@qmul.ac.uk) - [web](http://www.eecs.qmul.ac.uk/~fabri/)), all rights reserved. In: \"Computer Programming\", School of Electronic Engineering and Computer Science, Queen Mary University of London."
   ]
  }
 ],
 "metadata": {
  "kernelspec": {
   "display_name": "Python 3",
   "language": "python",
   "name": "python3"
  },
  "language_info": {
   "codemirror_mode": {
    "name": "ipython",
    "version": 3
   },
   "file_extension": ".py",
   "mimetype": "text/x-python",
   "name": "python",
   "nbconvert_exporter": "python",
   "pygments_lexer": "ipython3",
   "version": "3.8.10"
  }
 },
 "nbformat": 4,
 "nbformat_minor": 1
}
