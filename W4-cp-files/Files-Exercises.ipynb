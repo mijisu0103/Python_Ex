{
 "cells": [
  {
   "cell_type": "markdown",
   "metadata": {},
   "source": [
    "### Simple notepad"
   ]
  },
  {
   "cell_type": "markdown",
   "metadata": {},
   "source": [
    "Write a note-taking script that keeps asking the user for text and writes it to a file called ```notes.txt``` one line at a time, until the user writes the word ```exit``` alone on a line. This word should not be saved.\n",
    "\n",
    "Then write, in a separate cell, a script that prints the contents of ```notes.txt``` to the screen.\n",
    "\n",
    "Note that each time you run the note-taking script file ```notes.txt``` is cleared. To avoid this, modify the script so that it opens the file for appending instead of for writing - simply change the ```'w'``` into an ```'a'``` in the ```open()``` statement."
   ]
  },
  {
   "cell_type": "code",
   "execution_count": 1,
   "metadata": {},
   "outputs": [],
   "source": [
    "file = open('notes.txt', 'a')\n",
    "\n",
    "while(1):\n",
    "    uinput = input(\"Enter a note (type 'exit' to stop): \")\n",
    "    if uinput.strip().lower() == 'exit':\n",
    "        break\n",
    "    file.write(uinput + '\\n')\n",
    "\n",
    "file.close()"
   ]
  },
  {
   "cell_type": "markdown",
   "metadata": {},
   "source": [
    "### Save your pennies"
   ]
  },
  {
   "cell_type": "markdown",
   "metadata": {},
   "source": [
    "Write a program that reads a simple ```.csv``` file with the cost of shopping items. Your program should ask the user for the name of the file and print the total cost.\n",
    "\n",
    "An example input file should look like the one below: \n",
    "```\n",
    "milk,2.00\n",
    "bananas,1.25\n",
    "hamburger,4.95\n",
    "chocolate,25.00\n",
    "supplements,3.50\n",
    "```\n",
    "you can create one using the note-taking program you wrote above, directly using a text editor on your local machine or clicking on ```New > Text File``` on the Jupyter Notebook interface.\n",
    "\n",
    "*Optional*: Add extra functionality to your program, such it is also prints a line that reads\n",
    "```\n",
    "Savings tips: you could cut down on the [...]\n",
    "```\n",
    "followed by the name of the *least* expensive item."
   ]
  },
  {
   "cell_type": "code",
   "execution_count": 5,
   "metadata": {},
   "outputs": [
    {
     "name": "stdout",
     "output_type": "stream",
     "text": [
      "Total cost of items: $36.70\n",
      "Savings tips: you could cut down on the bananas.\n"
     ]
    }
   ],
   "source": [
    "import csv\n",
    "\n",
    "# Ask the user for the file path and then calculate the total cost.\n",
    "file_name = input(\"Please enter the CSV file name: \")\n",
    "\n",
    "total_cost = 0\n",
    "least_expensive_item = None\n",
    "least_expensive_price = float('inf')\n",
    "\n",
    "try:\n",
    "    with open(file_name, 'r') as file:\n",
    "        reader = csv.reader(file)\n",
    "        for row in reader:\n",
    "            item, price = row\n",
    "            price = float(price)\n",
    "            total_cost += price\n",
    "            if price < least_expensive_price:\n",
    "                least_expensive_price = price\n",
    "                least_expensive_item = item\n",
    "\n",
    "    # Print total cost\n",
    "    print(f\"Total cost of items: ${total_cost:.2f}\")\n",
    "\n",
    "    # Print savings tip\n",
    "    if least_expensive_item:\n",
    "        print(f\"Savings tips: you could cut down on the {least_expensive_item}.\")\n",
    "except FileNotFoundError:\n",
    "    print(\"The file was not found.\")\n",
    "except Exception as e:\n",
    "    print(f\"An error occurred: {e}\")\n"
   ]
  },
  {
   "cell_type": "markdown",
   "metadata": {},
   "source": [
    "### Word count"
   ]
  },
  {
   "cell_type": "markdown",
   "metadata": {},
   "source": [
    "The Unix ```wc``` command prints the number of lines, words and characters in a text file (type ```man wc``` in a terminal for more details). Write a program that asks the user for the name of a file, reads it and does the same. Process the file line by line; you can assume words are separated by a space."
   ]
  },
  {
   "cell_type": "code",
   "execution_count": 6,
   "metadata": {},
   "outputs": [
    {
     "name": "stdout",
     "output_type": "stream",
     "text": [
      "5 5 70 shopping.csv\n"
     ]
    }
   ],
   "source": [
    "file_name = input(\"Please enter the file name: \")\n",
    "\n",
    "try:\n",
    "    line_count = 0\n",
    "    word_count = 0\n",
    "    char_count = 0\n",
    "    \n",
    "    with open(file_name, 'r') as file:\n",
    "        for line in file:\n",
    "            line_count += 1\n",
    "            words_in_line = line.split() \n",
    "            word_count += len(words_in_line)\n",
    "            char_count += len(line)\n",
    "    \n",
    "    # Output the counts similar to 'wc' command\n",
    "    print(f\"{line_count} {word_count} {char_count} {file_name}\")\n",
    "    \n",
    "except FileNotFoundError:\n",
    "    print(\"The file was not found.\")\n",
    "except Exception as e:\n",
    "    print(f\"An error occurred: {e}\")\n"
   ]
  },
  {
   "cell_type": "markdown",
   "metadata": {},
   "source": [
    "### Mash them up"
   ]
  },
  {
   "cell_type": "markdown",
   "metadata": {},
   "source": [
    "The Unix command ```cat``` allows you to concatenate the content of two files by appending the contents of the second file to those of the first file. In this exercise, we are going to create a program that combines the files, so to speak, \"side by side\", by concatenating corresponding lines.\n",
    "\n",
    "Your program should ask the user for the names of the first (left-hand) input file, the second (right-hand) file and the output file. It should also ask for a separator string. It should then start reading one line at a time from each of the left- and right-hand files, and combine them to the output file as follows:\n",
    "```\n",
    "\"line from left-hand file\" + \"separator string\" + \"line from right-hand file\" + \"\\n\"\n",
    "```\n",
    "So for instance if the left-hand file is a CSV file with 3 columns, the right-hand file is a CSV file with two columns and the string separator is ```\", 0,\"``` the result will be a CSV file with 6 columns: the 3 columns from the left-hand file, a column of zeros inserted by the separator, and the two columns from the right-hand file.\n",
    "\n",
    "In order to keep the output consistent, your program should terminate when the shortest of the two input files runs out."
   ]
  },
  {
   "cell_type": "code",
   "execution_count": 1,
   "metadata": {},
   "outputs": [
    {
     "name": "stdout",
     "output_type": "stream",
     "text": [
      "Files combined successfully!\n"
     ]
    }
   ],
   "source": [
    "\n",
    "left_file = input(\"Enter the name of the left-hand input file: \")\n",
    "right_file = input(\"Enter the name of the right-hand input file: \")\n",
    "output_file = input(\"Enter the name of the output file: \")\n",
    "separator = input(\"Enter the separator string: \")\n",
    "\n",
    "\n",
    "with open(left_file, 'r') as left, open(right_file, 'r') as right, open(output_file, 'w') as output:\n",
    "    while True:\n",
    "        # Read one line from each file\n",
    "        left_line = left.readline()\n",
    "        right_line = right.readline()\n",
    "        \n",
    "\n",
    "        if not left_line or not right_line:\n",
    "            break\n",
    "        \n",
    "\n",
    "        left_line = left_line.rstrip('\\n')\n",
    "        right_line = right_line.rstrip('\\n')\n",
    "        \n",
    "\n",
    "        combined_line = f\"{left_line}{separator}{right_line}\\n\"\n",
    "        output.write(combined_line)\n",
    "\n",
    "print(\"Files combined successfully!\")\n"
   ]
  },
  {
   "cell_type": "markdown",
   "metadata": {},
   "source": [
    "### Counting vowels... and more"
   ]
  },
  {
   "cell_type": "markdown",
   "metadata": {},
   "source": [
    "Retrieve the code you wrote for the \"Counting vowels\" exercise (Notebook *Collections-Exercises*).\n",
    "\n",
    "* Modify it so that, instead of processing a string, it reads a text file \n",
    "* Process the file line by line. \n",
    "* Go ahead, download an entire book from [Project Gutenberg](https://www.gutenberg.org/) and try crunching it.\n",
    "* Can you use a loop to compute the frequency of all letters of the alphabet, instead of just the five vowels?\n",
    "\n",
    "\n",
    "Hint No 1: There are two ways of doing this. The first is, loop over each line in the file tallying one character at a time. The second is, for each line in the file, loop over the alphabet and call the ```str.count``` method to see how many times each letter occurs in that line. The first one is maybe more natural.\n",
    "\n",
    "Hint No 2: the command\n",
    "```\n",
    "from string import ascii_uppercase\n",
    "```\n",
    "will import variable ```ascii_uppercase``` with the entire uppercase alphabet from module ```string``` in the standard library. You can substitute ```ascii_lowercase``` for that if you prefer."
   ]
  },
  {
   "cell_type": "code",
   "execution_count": 2,
   "metadata": {},
   "outputs": [
    {
     "name": "stdout",
     "output_type": "stream",
     "text": [
      "a: 29\n",
      "c: 11\n",
      "d: 20\n",
      "e: 33\n",
      "f: 11\n",
      "g: 24\n",
      "h: 15\n",
      "i: 10\n",
      "k: 20\n",
      "l: 35\n",
      "m: 16\n",
      "n: 19\n",
      "o: 3\n",
      "p: 49\n",
      "q: 15\n",
      "r: 28\n",
      "s: 40\n",
      "t: 24\n",
      "u: 4\n",
      "v: 18\n",
      "w: 4\n",
      "y: 9\n"
     ]
    }
   ],
   "source": [
    "from string import ascii_lowercase\n",
    "\n",
    "letter_count = {letter: 0 for letter in ascii_lowercase}\n",
    "\n",
    "\n",
    "filename = 'P04637.fas'\n",
    "\n",
    "with open(filename, 'r', encoding='utf-8') as file:\n",
    "    for line in file:\n",
    "\n",
    "        line = line.lower()\n",
    "\n",
    "        for letter in line:\n",
    "            if letter in letter_count:\n",
    "                letter_count[letter] += 1\n",
    "\n",
    "\n",
    "for letter, count in letter_count.items():\n",
    "    if count > 0:\n",
    "        print(f\"{letter}: {count}\")\n"
   ]
  }
 ],
 "metadata": {
  "kernelspec": {
   "display_name": "Python 3",
   "language": "python",
   "name": "python3"
  },
  "language_info": {
   "codemirror_mode": {
    "name": "ipython",
    "version": 3
   },
   "file_extension": ".py",
   "mimetype": "text/x-python",
   "name": "python",
   "nbconvert_exporter": "python",
   "pygments_lexer": "ipython3",
   "version": "3.12.7"
  }
 },
 "nbformat": 4,
 "nbformat_minor": 1
}
